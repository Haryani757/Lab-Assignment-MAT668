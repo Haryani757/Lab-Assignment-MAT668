{
  "nbformat": 4,
  "nbformat_minor": 0,
  "metadata": {
    "kernelspec": {
      "display_name": "Python 3",
      "language": "python",
      "name": "python3"
    },
    "language_info": {
      "codemirror_mode": {
        "name": "ipython",
        "version": 3
      },
      "file_extension": ".py",
      "mimetype": "text/x-python",
      "name": "python",
      "nbconvert_exporter": "python",
      "pygments_lexer": "ipython3",
      "version": "3.5.1"
    },
    "colab": {
      "name": "Lab MAT668.ipynb",
      "provenance": [],
      "include_colab_link": true
    }
  },
  "cells": [
    {
      "cell_type": "markdown",
      "metadata": {
        "id": "view-in-github",
        "colab_type": "text"
      },
      "source": [
        "<a href=\"https://colab.research.google.com/github/Haryani757/Lab-Assignment-MAT668/blob/master/Lab_MAT668.ipynb\" target=\"_parent\"><img src=\"https://colab.research.google.com/assets/colab-badge.svg\" alt=\"Open In Colab\"/></a>"
      ]
    },
    {
      "cell_type": "markdown",
      "metadata": {
        "id": "5iepuIRupPrN"
      },
      "source": [
        "# MAT668\n",
        "## Lab 1"
      ]
    },
    {
      "cell_type": "code",
      "metadata": {
        "id": "sg4ie1rxpPrP",
        "outputId": "12661dec-38a8-4c6a-a8c5-e2ac0eea0c28",
        "colab": {
          "base_uri": "https://localhost:8080/",
          "height": 34
        }
      },
      "source": [
        "%pylab inline"
      ],
      "execution_count": null,
      "outputs": [
        {
          "output_type": "stream",
          "text": [
            "Populating the interactive namespace from numpy and matplotlib\n"
          ],
          "name": "stdout"
        }
      ]
    },
    {
      "cell_type": "markdown",
      "metadata": {
        "id": "vEeA1msOpPrT"
      },
      "source": [
        "### Q1\n",
        "Assign your name to a variable called \"my_name\". <br />\n",
        "Print your name using \"print\" function. <br />\n",
        "https://docs.python.org/3/tutorial/introduction.html#strings."
      ]
    },
    {
      "cell_type": "code",
      "metadata": {
        "id": "AQ27geXWpPrU",
        "colab": {
          "base_uri": "https://localhost:8080/"
        },
        "outputId": "faa4bc79-328f-4c63-c1f2-f9b140cf416e"
      },
      "source": [
        "my_name='Wan Nur Haryani Binti Wan Mohd Ariff Rashiddin'\n",
        "print(my_name)\n"
      ],
      "execution_count": 2,
      "outputs": [
        {
          "output_type": "stream",
          "name": "stdout",
          "text": [
            "Wan Nur Haryani Binti Wan Mohd Ariff Rashiddin\n"
          ]
        }
      ]
    },
    {
      "cell_type": "markdown",
      "metadata": {
        "id": "AomUYYZ_pPrW"
      },
      "source": [
        "<hr />"
      ]
    },
    {
      "cell_type": "markdown",
      "metadata": {
        "id": "kMHHvI4MpPrX"
      },
      "source": [
        "### Q2\n",
        "Define a list called \"nodes\" of 10 nodes (0, 1, ..., 9) using \"range\" function.<br />\n",
        "Convert the range into a list using \"list\" function.<br />\n",
        "Print the list of nodes using \"print\" function.\n",
        "\n",
        "https://docs.python.org/3/tutorial/introduction.html#lists <br />\n",
        "https://docs.python.org/3/tutorial/controlflow.html#the-range-function\n",
        "\n"
      ]
    },
    {
      "cell_type": "code",
      "metadata": {
        "id": "lO3ejI21pPrX",
        "colab": {
          "base_uri": "https://localhost:8080/"
        },
        "outputId": "baeeaea7-67c1-41a0-b964-9808237c3db6"
      },
      "source": [
        "nodes = list(range(10))\n",
        "print(nodes)\n"
      ],
      "execution_count": 3,
      "outputs": [
        {
          "output_type": "stream",
          "name": "stdout",
          "text": [
            "[0, 1, 2, 3, 4, 5, 6, 7, 8, 9]\n"
          ]
        }
      ]
    },
    {
      "cell_type": "markdown",
      "metadata": {
        "id": "IhQaOSjfpPra"
      },
      "source": [
        "<hr />"
      ]
    },
    {
      "cell_type": "markdown",
      "metadata": {
        "id": "Fq4CzH-GpPra"
      },
      "source": [
        "### Q3\n",
        "Define a list using your student ID named \"studid\".<br >\n",
        "For example, if your student ID is \"2015234031\",<br />\n",
        "your list is [2, 0, 1, 5, 2, 3, 4, 0, 3, 1].<br />\n",
        "Print it using  \"print\" function."
      ]
    },
    {
      "cell_type": "code",
      "metadata": {
        "id": "cJJBqUHapPrb",
        "colab": {
          "base_uri": "https://localhost:8080/"
        },
        "outputId": "c305537a-d3b8-4c52-bfa4-bfd9fb5f779d"
      },
      "source": [
        "studid = [2,0,2,2,8,2,2,0,8,6]\n",
        "print(studid)\n"
      ],
      "execution_count": 4,
      "outputs": [
        {
          "output_type": "stream",
          "name": "stdout",
          "text": [
            "[2, 0, 2, 2, 8, 2, 2, 0, 8, 6]\n"
          ]
        }
      ]
    },
    {
      "cell_type": "markdown",
      "metadata": {
        "id": "L3cgesB_pPrd"
      },
      "source": [
        "<hr />"
      ]
    },
    {
      "cell_type": "markdown",
      "metadata": {
        "id": "iyLiIstFpPre"
      },
      "source": [
        "### Q4\n",
        "Use \"zip\" function to create a sequence of tuple and called it \"edges\".<br />\n",
        "Each tuple defines an edge between two nodes from the list nodes <br />\n",
        "and the list studid (nodes[i], stud[i]).<br />\n",
        "Then, use \"list\" function  to convert \"edges\" sequence into a list.<br />\n",
        "Print the list of edges using \"print\" function.<br />\n",
        "Example:<br />\n",
        "If nodes = [0, 1, 2, 3, 4, 5, 6, 7, 8, 9] and  studid = [2, 0, 1, 5, 2, 3, 4, 0, 3, 1]<br />\n",
        "then, edges = [(0, 2), (1, 0), (2, 1), (3, 5), (4, 2), (5, 3), (6, 4), (7, 0), (8, 3), (9, 1)]\n",
        "\n",
        "https://docs.python.org/3/tutorial/datastructures.html#nested-list-comprehensions"
      ]
    },
    {
      "cell_type": "code",
      "metadata": {
        "id": "kCQyKJKnpPrf",
        "colab": {
          "base_uri": "https://localhost:8080/"
        },
        "outputId": "f859cfff-6b8f-4d41-ccdc-51aa017b1254"
      },
      "source": [
        "nodes = list(range(10))\n",
        "print(nodes)\n",
        "\n",
        "studid = [2,0,2,2,8,2,2,0,8,6]\n",
        "print(studid)\n",
        "\n",
        "edges = list(zip(nodes,studid))\n",
        "print(edges)"
      ],
      "execution_count": 5,
      "outputs": [
        {
          "output_type": "stream",
          "name": "stdout",
          "text": [
            "[0, 1, 2, 3, 4, 5, 6, 7, 8, 9]\n",
            "[2, 0, 2, 2, 8, 2, 2, 0, 8, 6]\n",
            "[(0, 2), (1, 0), (2, 2), (3, 2), (4, 8), (5, 2), (6, 2), (7, 0), (8, 8), (9, 6)]\n"
          ]
        }
      ]
    },
    {
      "cell_type": "markdown",
      "metadata": {
        "id": "gmJzPcAhpPrh"
      },
      "source": [
        "<hr />"
      ]
    },
    {
      "cell_type": "markdown",
      "metadata": {
        "id": "1Ac7kBuTpPrh"
      },
      "source": [
        "### Q5\n",
        "Import networkx module as nx.\n",
        "\n",
        "Then, create an empty graph G with no nodes and no edges.\n",
        "\n",
        "https://networkx.github.io/documentation/stable/tutorial.html#creating-a-graph\n"
      ]
    },
    {
      "cell_type": "code",
      "metadata": {
        "id": "XkaBiYPJpPri"
      },
      "source": [
        "import networkx as nx\n",
        "G = nx.Graph()"
      ],
      "execution_count": 6,
      "outputs": []
    },
    {
      "cell_type": "markdown",
      "metadata": {
        "id": "Xr6cAfj_pPrk"
      },
      "source": [
        "<hr />"
      ]
    },
    {
      "cell_type": "markdown",
      "metadata": {
        "id": "rMYBtFj0pPrl"
      },
      "source": [
        "### Q6\n",
        "Add \"edges\" to G using \"add_edges_from\" function.\n",
        "\n",
        "https://networkx.github.io/documentation/stable/tutorial.html#edges"
      ]
    },
    {
      "cell_type": "code",
      "metadata": {
        "id": "D5KhwXUkpPrm"
      },
      "source": [
        "edges = [(0, 2), (1, 0), (2, 2), (3, 2), (4, 8), (5, 2), (6, 2), (7, 0), (8, 8), (9, 6)]\n",
        "G.add_edges_from(edges)\n"
      ],
      "execution_count": 7,
      "outputs": []
    },
    {
      "cell_type": "markdown",
      "metadata": {
        "id": "jGMLq-NkpPro"
      },
      "source": [
        "<hr />"
      ]
    },
    {
      "cell_type": "markdown",
      "metadata": {
        "id": "TMAP5tNppPrp"
      },
      "source": [
        "### Q7\n",
        "Print all nodes using \"list\" and print\" function.\n",
        "\n",
        "https://networkx.github.io/documentation/stable/tutorial.html#edges"
      ]
    },
    {
      "cell_type": "code",
      "metadata": {
        "id": "irvqMbyhpPrp",
        "colab": {
          "base_uri": "https://localhost:8080/"
        },
        "outputId": "9000ba78-c7f9-45ee-87ee-de3d54d13cfd"
      },
      "source": [
        "print(list(G.nodes))"
      ],
      "execution_count": 8,
      "outputs": [
        {
          "output_type": "stream",
          "name": "stdout",
          "text": [
            "[0, 2, 1, 3, 4, 8, 5, 6, 7, 9]\n"
          ]
        }
      ]
    },
    {
      "cell_type": "markdown",
      "metadata": {
        "id": "_DOMJO-zpPrr"
      },
      "source": [
        "<hr />"
      ]
    },
    {
      "cell_type": "markdown",
      "metadata": {
        "id": "zTZd2f0JpPrs"
      },
      "source": [
        "### Q8\n",
        "Print all edges using \"list\" and print\" function.\n",
        "\n",
        "https://networkx.github.io/documentation/stable/tutorial.html#edges"
      ]
    },
    {
      "cell_type": "code",
      "metadata": {
        "id": "YDacB8IopPrt",
        "colab": {
          "base_uri": "https://localhost:8080/"
        },
        "outputId": "01912665-895b-49ed-a247-dcad8f612bee"
      },
      "source": [
        "print(list(G.edges))"
      ],
      "execution_count": 9,
      "outputs": [
        {
          "output_type": "stream",
          "name": "stdout",
          "text": [
            "[(0, 2), (0, 1), (0, 7), (2, 2), (2, 3), (2, 5), (2, 6), (4, 8), (8, 8), (6, 9)]\n"
          ]
        }
      ]
    },
    {
      "cell_type": "markdown",
      "metadata": {
        "id": "mRG0TKy3pPrv"
      },
      "source": [
        "<hr />"
      ]
    },
    {
      "cell_type": "markdown",
      "metadata": {
        "id": "7SdOBQkgpPrx"
      },
      "source": [
        "### Q9\n",
        "Print the number of nodes using <br />\"number_of_nodes\" functon, and <br />\n",
        "\"print\" function.\n",
        "\n",
        "https://networkx.github.io/documentation/stable/tutorial.html#edges"
      ]
    },
    {
      "cell_type": "code",
      "metadata": {
        "id": "1YAgQvZPpPry",
        "colab": {
          "base_uri": "https://localhost:8080/"
        },
        "outputId": "86775135-d9fd-447d-8f51-e87cf0ab8aa4"
      },
      "source": [
        "print(\"number_of_nodes:\",G.number_of_nodes())"
      ],
      "execution_count": 11,
      "outputs": [
        {
          "output_type": "stream",
          "name": "stdout",
          "text": [
            "number_of_nodes: 10\n"
          ]
        }
      ]
    },
    {
      "cell_type": "markdown",
      "metadata": {
        "id": "u3XDz_7ppPr0"
      },
      "source": [
        "<hr />"
      ]
    },
    {
      "cell_type": "markdown",
      "metadata": {
        "id": "mnPJ2DzYpPr1"
      },
      "source": [
        "### Q10\n",
        "Print the number of edges using <br />\"number_of_edges\" function , and<br /> \"print\" function."
      ]
    },
    {
      "cell_type": "code",
      "metadata": {
        "id": "HaIB1lp_pPr2",
        "colab": {
          "base_uri": "https://localhost:8080/"
        },
        "outputId": "d4e9a9b5-78f7-4fc6-b8cc-9af832e4c6f4"
      },
      "source": [
        "print(\"number_of_edges:\",G.number_of_edges())"
      ],
      "execution_count": 13,
      "outputs": [
        {
          "output_type": "stream",
          "name": "stdout",
          "text": [
            "number_of_edges: 10\n"
          ]
        }
      ]
    },
    {
      "cell_type": "markdown",
      "metadata": {
        "id": "Zp4SBR4BpPr4"
      },
      "source": [
        "<hr />"
      ]
    },
    {
      "cell_type": "markdown",
      "metadata": {
        "collapsed": false,
        "id": "XWqTWYhmpPr5"
      },
      "source": [
        "### Q11\n",
        "Print the list of nodes adjacent to node 2 (neighbour of node 2)<br />\n",
        "using \"neighbors\" function<br />\n",
        "and \"print\" function.\n",
        "\n",
        "https://networkx.github.io/documentation/stable/tutorial.html#edges"
      ]
    },
    {
      "cell_type": "code",
      "metadata": {
        "id": "_RT6kP3EpPr6",
        "colab": {
          "base_uri": "https://localhost:8080/"
        },
        "outputId": "e3b7b9c6-bb0a-4382-9640-575ff4a0a2fb"
      },
      "source": [
        "print(\"neighbour of node 2:\", list(G.neighbors(2)))"
      ],
      "execution_count": 14,
      "outputs": [
        {
          "output_type": "stream",
          "name": "stdout",
          "text": [
            "neighbour of node 2: [0, 2, 3, 5, 6]\n"
          ]
        }
      ]
    },
    {
      "cell_type": "markdown",
      "metadata": {
        "id": "qKo7PEHRpPr9"
      },
      "source": [
        "<hr />"
      ]
    },
    {
      "cell_type": "markdown",
      "metadata": {
        "id": "d6ARhDbCpPr9"
      },
      "source": [
        "### Q12\n",
        "Print all the nodes and a list of their respective neighbours side by side using<br />\n",
        "\"for loop\", <br />\n",
        "\"nodes\" function, <br />\n",
        "\"neighbors\" function, and <br />\n",
        "\"print\" function.\n",
        "\n",
        "Example:<br />\n",
        "0 [1, 2, 7]<br />\n",
        "1 [0, 9, 2]<br />\n",
        "2 [0, 1, 4]<br />\n",
        "3 [8, 5]<br />\n",
        "4 [2, 6]<br />\n",
        "5 [3]<br />\n",
        "6 [4]<br />\n",
        "7 [0]<br />\n",
        "8 [3]<br />\n",
        "9 [1]\n",
        "\n",
        "https://docs.python.org/3/tutorial/controlflow.html#for-statements <br />\n",
        "https://networkx.github.io/documentation/stable/tutorial.html#edges"
      ]
    },
    {
      "cell_type": "code",
      "metadata": {
        "id": "P0t7CHOdpPr-",
        "colab": {
          "base_uri": "https://localhost:8080/"
        },
        "outputId": "9ab7cba5-ddcb-413d-818b-b9bdac7bf33b"
      },
      "source": [
        "for nodes in G.nodes():\n",
        "  print (nodes, list(G.neighbors(nodes)))"
      ],
      "execution_count": 15,
      "outputs": [
        {
          "output_type": "stream",
          "name": "stdout",
          "text": [
            "0 [2, 1, 7]\n",
            "2 [0, 2, 3, 5, 6]\n",
            "1 [0]\n",
            "3 [2]\n",
            "4 [8]\n",
            "8 [4, 8]\n",
            "5 [2]\n",
            "6 [2, 9]\n",
            "7 [0]\n",
            "9 [6]\n"
          ]
        }
      ]
    },
    {
      "cell_type": "markdown",
      "metadata": {
        "id": "-n1lg81NpPsB"
      },
      "source": [
        "<hr />"
      ]
    },
    {
      "cell_type": "markdown",
      "metadata": {
        "id": "9Ffba_iYpPsC"
      },
      "source": [
        "### Q13\n",
        "Print the degree for node 2 using the \"degree\" function , and <br />\n",
        "\"print\" function.<br />\n",
        "Please ignore parameter \"weight\".\n",
        "\n",
        "https://networkx.github.io/documentation/stable/tutorial.html#edges"
      ]
    },
    {
      "cell_type": "code",
      "metadata": {
        "id": "1e6QqN7VpPsD",
        "colab": {
          "base_uri": "https://localhost:8080/"
        },
        "outputId": "30853bbd-2636-433f-b996-4226e66fca14"
      },
      "source": [
        "print(G.degree(2))"
      ],
      "execution_count": 16,
      "outputs": [
        {
          "output_type": "stream",
          "name": "stdout",
          "text": [
            "6\n"
          ]
        }
      ]
    },
    {
      "cell_type": "markdown",
      "metadata": {
        "id": "h9dAJ9lqpPsI"
      },
      "source": [
        "<hr />"
      ]
    },
    {
      "cell_type": "markdown",
      "metadata": {
        "id": "RTMnFYAwpPsJ"
      },
      "source": [
        "### Q14\n",
        "Print all the nodes and their respective degree side by side using<br />\n",
        "\"for loop\", <br />\n",
        "\"nodes\" function, <br />\n",
        "\"degree\" function, and <br />\n",
        "\"print\" function.\n",
        "\n",
        "Example:<br />\n",
        "0 3<br />\n",
        "1 3<br />\n",
        "2 3<br />\n",
        "3 2<br />\n",
        "4 2<br />\n",
        "5 1<br />\n",
        "6 1<br />\n",
        "7 1<br />\n",
        "8 1<br />\n",
        "9 1\n",
        "\n",
        "https://docs.python.org/3/tutorial/controlflow.html#for-statements <br />\n",
        "https://networkx.github.io/documentation/stable/tutorial.html#edges<br />\n"
      ]
    },
    {
      "cell_type": "markdown",
      "metadata": {
        "id": "2UNrj3-OpPsK"
      },
      "source": [
        "<hr />"
      ]
    },
    {
      "cell_type": "code",
      "metadata": {
        "id": "0tcQ-x9rpPsL",
        "colab": {
          "base_uri": "https://localhost:8080/"
        },
        "outputId": "90395ee4-53a4-478a-df1e-ce5a795a92c3"
      },
      "source": [
        "for nodes in G.nodes():\n",
        "  print (nodes,(G.degree(nodes)))"
      ],
      "execution_count": 17,
      "outputs": [
        {
          "output_type": "stream",
          "name": "stdout",
          "text": [
            "0 3\n",
            "2 6\n",
            "1 1\n",
            "3 1\n",
            "4 1\n",
            "8 3\n",
            "5 1\n",
            "6 2\n",
            "7 1\n",
            "9 1\n"
          ]
        }
      ]
    },
    {
      "cell_type": "markdown",
      "metadata": {
        "id": "As3KK7fEpPsN"
      },
      "source": [
        "<hr />"
      ]
    },
    {
      "cell_type": "markdown",
      "metadata": {
        "id": "bH_cCMGvpPsO"
      },
      "source": [
        "### Q15\n",
        "\"G.degree()\" is of type dict. <br />\n",
        "\"G.degree().keys()\" will return all the nodes.<br />\n",
        "\"G.degree().values()\" will return all the degrees.<br />\n",
        "\n",
        "Create a degree sequence in descending order using<br />\n",
        "\"G.degree().values()\" function and \"list\" function<br />\n",
        "and assign it to variable called \"degree_sequence\"\n",
        "\n",
        "Print \"degree_sequence\" using \"print\" function.\n",
        "\n",
        "Note:\n",
        "\n",
        "Example: <br />\n",
        "[3, 3, 3, 2, 2, 1, 1, 1, 1, 1]\n",
        "\n",
        "https://docs.python.org/3/tutorial/introduction.html#lists <br />\n",
        "https://docs.python.org/3/tutorial/datastructures.html#dictionaries"
      ]
    },
    {
      "cell_type": "code",
      "metadata": {
        "id": "6LIJfvi_pPsP",
        "colab": {
          "base_uri": "https://localhost:8080/"
        },
        "outputId": "ba42ea2f-d277-4829-e670-da215f35c837"
      },
      "source": [
        "degree_sequence = sorted(list(dict(G.degree()).values()),reverse=True)\n",
        "print(degree_sequence)"
      ],
      "execution_count": 21,
      "outputs": [
        {
          "output_type": "stream",
          "name": "stdout",
          "text": [
            "[6, 3, 3, 2, 1, 1, 1, 1, 1, 1]\n"
          ]
        }
      ]
    },
    {
      "cell_type": "markdown",
      "metadata": {
        "id": "0dRAhb9SpPsS"
      },
      "source": [
        "<hr />"
      ]
    },
    {
      "cell_type": "markdown",
      "metadata": {
        "id": "hQ42I9CnpPsT"
      },
      "source": [
        "### Q16\n",
        "Find the maximum vertex degree $\\Delta$ by applying<br />\n",
        "\"max\" function to the list \"degree_sequence\" <br />\n",
        "and assign it to variable \"max_degree\".\n",
        "\n",
        "Print variable \"max_degree\" using \"print\" function."
      ]
    },
    {
      "cell_type": "code",
      "metadata": {
        "id": "5dZszNKspPsU",
        "colab": {
          "base_uri": "https://localhost:8080/"
        },
        "outputId": "68f3d5d2-253c-493e-fbef-084c72305942"
      },
      "source": [
        "max_degree = max(degree_sequence)\n",
        "print(max_degree)"
      ],
      "execution_count": 22,
      "outputs": [
        {
          "output_type": "stream",
          "name": "stdout",
          "text": [
            "6\n"
          ]
        }
      ]
    },
    {
      "cell_type": "markdown",
      "metadata": {
        "id": "i0AoM5UppPsW"
      },
      "source": [
        "<hr />"
      ]
    },
    {
      "cell_type": "markdown",
      "metadata": {
        "id": "gojNOhlfpPsX"
      },
      "source": [
        "### Q17\n",
        "Find the minimum vertex degree $\\delta$ by applying<br />\n",
        "\"min\" function to the list \"degree_sequence\"<br />\n",
        "and assign it to variable \"min_degree\".\n",
        "\n",
        "Print variable \"min_degree\" using \"print\" function."
      ]
    },
    {
      "cell_type": "code",
      "metadata": {
        "id": "rcxLGrhLpPsY",
        "colab": {
          "base_uri": "https://localhost:8080/"
        },
        "outputId": "c638393d-6acb-400a-d6a5-94aae26a5696"
      },
      "source": [
        "min_degree = min(degree_sequence)\n",
        "print(min_degree)"
      ],
      "execution_count": 23,
      "outputs": [
        {
          "output_type": "stream",
          "name": "stdout",
          "text": [
            "1\n"
          ]
        }
      ]
    },
    {
      "cell_type": "markdown",
      "metadata": {
        "id": "1x-5SS7apPsa"
      },
      "source": [
        "<hr />"
      ]
    },
    {
      "cell_type": "markdown",
      "metadata": {
        "id": "B5OhvbB4pPsb"
      },
      "source": [
        "### Q18\n",
        "Calculate the sum of degree of all nodes<br />\n",
        "\n",
        "\"sum\" function to calculate the sum of all degree, and <br />\n",
        "assign it to a variable called \"sum_degree\".\n",
        "\n",
        "Print \"sum_degree\" using \"print\" function.\n",
        "\n",
        "Example:<br />\n",
        "Sum of degree of all nodes = 18<br />"
      ]
    },
    {
      "cell_type": "code",
      "metadata": {
        "id": "SMqMHFpRpPsc",
        "colab": {
          "base_uri": "https://localhost:8080/"
        },
        "outputId": "35c9bc8c-e357-4522-9d1f-eae57d41c678"
      },
      "source": [
        "sum_degree = sum(degree_sequence)\n",
        "print(\"Sum of degree of all nodes =\",sum_degree)"
      ],
      "execution_count": 24,
      "outputs": [
        {
          "output_type": "stream",
          "name": "stdout",
          "text": [
            "Sum of degree of all nodes = 20\n"
          ]
        }
      ]
    },
    {
      "cell_type": "markdown",
      "metadata": {
        "id": "jXKgY8EypPse"
      },
      "source": [
        "<hr />"
      ]
    },
    {
      "cell_type": "markdown",
      "metadata": {
        "id": "pUZUnwnGpPsf"
      },
      "source": [
        "### Q19\n",
        "Calculate the value of 2 times the total number of edges using <br />\n",
        "\"number_of_edges\" function, and<br />\n",
        "assign it to a variable called \"edges_times2\".\n",
        "\n",
        "Print \"edges_times2\" using \"print\" function.\n",
        "\n",
        "Example:<br />\n",
        "edges_times2 = 2 x number_of_edges =  18\n",
        "\n",
        "https://networkx.github.io/documentation/stable/tutorial.html#edges"
      ]
    },
    {
      "cell_type": "code",
      "metadata": {
        "id": "bWcQBp1vpPsh",
        "colab": {
          "base_uri": "https://localhost:8080/"
        },
        "outputId": "47534dde-f613-4ed9-c6ac-95032f6891b7"
      },
      "source": [
        "edges_times2 = 2*G.number_of_edges()\n",
        "print(edges_times2)"
      ],
      "execution_count": 25,
      "outputs": [
        {
          "output_type": "stream",
          "name": "stdout",
          "text": [
            "20\n"
          ]
        }
      ]
    },
    {
      "cell_type": "markdown",
      "metadata": {
        "id": "AcUawahHpPsm"
      },
      "source": [
        "<hr />"
      ]
    },
    {
      "cell_type": "markdown",
      "metadata": {
        "id": "hWPq9PGVpPsn"
      },
      "source": [
        "### Q20\n",
        "Verify Handshaking Lemma (The degree sum formula).<br />\n",
        "$\\sum_{v \\in V} deg(v) = 2|E|$\n",
        "\n",
        "Hint: <br />\n",
        "Is sum_degree = edges_times2? <br />\n",
        "Print the value using \"print\" function."
      ]
    },
    {
      "cell_type": "code",
      "metadata": {
        "id": "IO09VxRApPso",
        "colab": {
          "base_uri": "https://localhost:8080/"
        },
        "outputId": "372cea20-e2d6-4928-b6dc-1d6124202c5c"
      },
      "source": [
        "print(\"Handshaing Lemma Verified :\", sum_degree == edges_times2)\n"
      ],
      "execution_count": 26,
      "outputs": [
        {
          "output_type": "stream",
          "name": "stdout",
          "text": [
            "Handshaing Lemma Verified : True\n"
          ]
        }
      ]
    },
    {
      "cell_type": "markdown",
      "metadata": {
        "id": "NTUTs1KwpPsq"
      },
      "source": [
        "<hr />"
      ]
    },
    {
      "cell_type": "markdown",
      "metadata": {
        "id": "_WMaZHMOpPsr"
      },
      "source": [
        "### Q21\n",
        "Draw the graph G using \"draw\" function. Add \"with_labels=True\" argument to \"draw\" function to display the node's label."
      ]
    },
    {
      "cell_type": "code",
      "metadata": {
        "id": "4UbZ1LThpPss",
        "colab": {
          "base_uri": "https://localhost:8080/",
          "height": 516
        },
        "outputId": "3c53e184-d994-436f-8718-5a21253d7e9a"
      },
      "source": [
        "nx.draw(G, with_labels = True)"
      ],
      "execution_count": 27,
      "outputs": [
        {
          "output_type": "display_data",
          "data": {
            "text/plain": [
              "<Figure size 640x480 with 1 Axes>"
            ],
            "image/png": "[encoded data removed]"
          },
          "metadata": {}
        }
      ]
    }
  ]
}