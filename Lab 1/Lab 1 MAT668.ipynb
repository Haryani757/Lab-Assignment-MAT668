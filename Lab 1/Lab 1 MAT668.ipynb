{
 "cells": [
  {
   "cell_type": "markdown",
   "metadata": {},
   "source": [
    "# MAT668: Graph Theory with Applications\n",
    "## Lab 1"
   ]
  },
  {
   "cell_type": "code",
   "execution_count": 195,
   "metadata": {
    "collapsed": false
   },
   "outputs": [
    {
     "name": "stdout",
     "output_type": "stream",
     "text": [
      "Populating the interactive namespace from numpy and matplotlib\n"
     ]
    }
   ],
   "source": [
    "%pylab inline"
   ]
  },
  {
   "cell_type": "markdown",
   "metadata": {},
   "source": [
    "### Q1\n",
    "Assign your name to a variable called \"my_name\" (Python Tutorial, pg. 8). <br />\n",
    "Print your name using \"print\" function (Python Tutorial, pg. 9)."
   ]
  },
  {
   "cell_type": "code",
   "execution_count": null,
   "metadata": {
    "collapsed": false
   },
   "outputs": [],
   "source": []
  },
  {
   "cell_type": "markdown",
   "metadata": {},
   "source": [
    "<hr />"
   ]
  },
  {
   "cell_type": "markdown",
   "metadata": {},
   "source": [
    "### Q2\n",
    "Define a list called \"nodes\" of 10 nodes (0, 1, ..., 9) using \"range\" function (Python Tutorial, pg. 16).<br />\n",
    "Convert the range into a list using \"list\" function (Python Tutorial, pg. 12).<br />\n",
    "Print the list of nodes using \"print\" function (Python Tutorial, pg. 9)."
   ]
  },
  {
   "cell_type": "code",
   "execution_count": null,
   "metadata": {
    "collapsed": false
   },
   "outputs": [],
   "source": []
  },
  {
   "cell_type": "markdown",
   "metadata": {},
   "source": [
    "<hr />"
   ]
  },
  {
   "cell_type": "markdown",
   "metadata": {},
   "source": [
    "### Q3\n",
    "Define a list (Python Tutorial, pg. 12) using your student ID named \"studid\".<br >\n",
    "For example, if your student ID is \"2015234031\",<br />\n",
    "your list is [2, 0, 1, 5, 2, 3, 4, 0, 3, 1].<br />\n",
    "Print it using  \"print\" function (Python Tutorial, pg. 9)."
   ]
  },
  {
   "cell_type": "code",
   "execution_count": null,
   "metadata": {
    "collapsed": false
   },
   "outputs": [],
   "source": []
  },
  {
   "cell_type": "markdown",
   "metadata": {},
   "source": [
    "<hr />"
   ]
  },
  {
   "cell_type": "markdown",
   "metadata": {},
   "source": [
    "### Q4\n",
    "Use \"zip\" function (Python Tutorial, pg. 67) to create a sequence of tuple and called it \"edges\".<br />\n",
    "Each tuple defines an edge between two nodes from the list nodes <br />\n",
    "and the list studid (nodes[i], stud[i]).<br />\n",
    "Then, use \"list\" function  (Python Tutorial, pg. 12) to convert \"edges\" sequence into a list.<br />\n",
    "Print the list of edges using \"print\" function (Python Tutorial, pg. 9).<br />\n",
    "Example:<br />\n",
    "If nodes = [0, 1, 2, 3, 4, 5, 6, 7, 8, 9] and  studid = [2, 0, 1, 5, 2, 3, 4, 0, 3, 1]<br />\n",
    "then, edges = [(0, 2), (1, 0), (2, 1), (3, 5), (4, 2), (5, 3), (6, 4), (7, 0), (8, 3), (9, 1)]"
   ]
  },
  {
   "cell_type": "code",
   "execution_count": null,
   "metadata": {
    "collapsed": false
   },
   "outputs": [],
   "source": []
  },
  {
   "cell_type": "markdown",
   "metadata": {},
   "source": [
    "<hr />"
   ]
  },
  {
   "cell_type": "markdown",
   "metadata": {},
   "source": [
    "### Q5\n",
    "Import networkx module as nx.\n",
    "\n",
    "Then, create an empty graph G with no nodes and no edges (NetworkX Tutorial pg. 1)."
   ]
  },
  {
   "cell_type": "code",
   "execution_count": null,
   "metadata": {
    "collapsed": false
   },
   "outputs": [],
   "source": []
  },
  {
   "cell_type": "markdown",
   "metadata": {},
   "source": [
    "<hr />"
   ]
  },
  {
   "cell_type": "markdown",
   "metadata": {},
   "source": [
    "### Q6\n",
    "Add \"edges\" to G using \"add_edges_from\" function (NetworkX Tutorial pg. 2)."
   ]
  },
  {
   "cell_type": "code",
   "execution_count": null,
   "metadata": {
    "collapsed": true
   },
   "outputs": [],
   "source": []
  },
  {
   "cell_type": "markdown",
   "metadata": {},
   "source": [
    "<hr />"
   ]
  },
  {
   "cell_type": "markdown",
   "metadata": {},
   "source": [
    "### Q7\n",
    "Print all nodes (NetworkX Tutorial pg. 3) using \"print\" function (Python Tutorial, pg. 9)."
   ]
  },
  {
   "cell_type": "code",
   "execution_count": null,
   "metadata": {
    "collapsed": false
   },
   "outputs": [],
   "source": []
  },
  {
   "cell_type": "markdown",
   "metadata": {},
   "source": [
    "<hr />"
   ]
  },
  {
   "cell_type": "markdown",
   "metadata": {},
   "source": [
    "### Q8\n",
    "Print all edges (NetworkX Tutorial pg. 3) using \"print\" function (Python Tutorial, pg. 9)."
   ]
  },
  {
   "cell_type": "code",
   "execution_count": null,
   "metadata": {
    "collapsed": false
   },
   "outputs": [],
   "source": []
  },
  {
   "cell_type": "markdown",
   "metadata": {},
   "source": [
    "<hr />"
   ]
  },
  {
   "cell_type": "markdown",
   "metadata": {},
   "source": [
    "### Q9\n",
    "Print the number of nodes using <br />\"number_of_nodes\" functon (NetworkX Tutorial pg. 3), and <br />\n",
    "\"print\" function (Python Tutorial, pg. 9)."
   ]
  },
  {
   "cell_type": "code",
   "execution_count": null,
   "metadata": {
    "collapsed": false
   },
   "outputs": [],
   "source": []
  },
  {
   "cell_type": "markdown",
   "metadata": {},
   "source": [
    "<hr />"
   ]
  },
  {
   "cell_type": "markdown",
   "metadata": {},
   "source": [
    "### Q10\n",
    "Print the number of edges using <br />\"number_of_edges\" function (NetworkX Tutorial pg. 3), and<br /> \"print\" function (Python Tutorial, pg. 9)."
   ]
  },
  {
   "cell_type": "code",
   "execution_count": null,
   "metadata": {
    "collapsed": false
   },
   "outputs": [],
   "source": []
  },
  {
   "cell_type": "markdown",
   "metadata": {},
   "source": [
    "<hr />"
   ]
  },
  {
   "cell_type": "markdown",
   "metadata": {
    "collapsed": false
   },
   "source": [
    "### Q11\n",
    "Print the list of nodes adjacent to node 2 (neighbour of node 2)<br />\n",
    "using \"neighbors\" function (NetworkX Tutorial pg. 3) <br />\n",
    "and \"print\" function (Python Tutorial, pg. 9)."
   ]
  },
  {
   "cell_type": "code",
   "execution_count": null,
   "metadata": {
    "collapsed": false
   },
   "outputs": [],
   "source": []
  },
  {
   "cell_type": "markdown",
   "metadata": {},
   "source": [
    "<hr />"
   ]
  },
  {
   "cell_type": "markdown",
   "metadata": {},
   "source": [
    "### Q12\n",
    "Print all the nodes and a list of their respective neighbours side by side using<br />\n",
    "\"for loop\" (Python Tutorial, pg. 15), <br />\n",
    "\"nodes\" function (NetworkX Tutorial pg. 3), <br />\n",
    "\"neighbors\" function (NetworkX Tutorial pg. 3), and <br />\n",
    "\"print\" function (Python Tutorial, pg. 9).\n",
    "\n",
    "Example:<br />\n",
    "0 [1, 2, 7]<br />\n",
    "1 [0, 9, 2]<br />\n",
    "2 [0, 1, 4]<br />\n",
    "3 [8, 5]<br />\n",
    "4 [2, 6]<br />\n",
    "5 [3]<br />\n",
    "6 [4]<br />\n",
    "7 [0]<br />\n",
    "8 [3]<br />\n",
    "9 [1]"
   ]
  },
  {
   "cell_type": "code",
   "execution_count": null,
   "metadata": {
    "collapsed": false
   },
   "outputs": [],
   "source": []
  },
  {
   "cell_type": "markdown",
   "metadata": {},
   "source": [
    "<hr />"
   ]
  },
  {
   "cell_type": "markdown",
   "metadata": {},
   "source": [
    "### Q13\n",
    "Print the degree for node 2 using the \"degree\" function (NetworkX Tutorial pg. 5), and <br />\n",
    "\"print\" function (Python Tutorial, pg. 9).<br />\n",
    "Please ignore parameter \"weight\"."
   ]
  },
  {
   "cell_type": "code",
   "execution_count": null,
   "metadata": {
    "collapsed": false
   },
   "outputs": [],
   "source": []
  },
  {
   "cell_type": "markdown",
   "metadata": {},
   "source": [
    "<hr />"
   ]
  },
  {
   "cell_type": "markdown",
   "metadata": {},
   "source": [
    "### Q14\n",
    "Print all the nodes and their respective degree side by side using<br />\n",
    "\"for loop\" (Python Tutorial, pg. 15), <br />\n",
    "\"nodes\" function (NetworkX Tutorial pg. 3), <br />\n",
    "\"degree\" function (NetworkX Tutorial pg. 5), and <br />\n",
    "\"print\" function (Python Tutorial, pg. 9).\n",
    "\n",
    "Example:<br />\n",
    "0 3<br />\n",
    "1 3<br />\n",
    "2 3<br />\n",
    "3 2<br />\n",
    "4 2<br />\n",
    "5 1<br />\n",
    "6 1<br />\n",
    "7 1<br />\n",
    "8 1<br />\n",
    "9 1"
   ]
  },
  {
   "cell_type": "markdown",
   "metadata": {},
   "source": [
    "<hr />"
   ]
  },
  {
   "cell_type": "code",
   "execution_count": null,
   "metadata": {
    "collapsed": false
   },
   "outputs": [],
   "source": []
  },
  {
   "cell_type": "markdown",
   "metadata": {},
   "source": [
    "<hr />"
   ]
  },
  {
   "cell_type": "markdown",
   "metadata": {},
   "source": [
    "### Q15\n",
    "\"G.degree()\" is of type dict (Python Tutorial, pg. 31). <br />\n",
    "\"G.degree().keys()\" will return all the nodes.<br />\n",
    "\"G.degree().values()\" will return all the degrees.<br />\n",
    "Read the Python Tutorial, pg. 31 on how to convert them to a list.\n",
    "\n",
    "Create a degree sequence in descending order using<br />\n",
    "\"G.degree().values()\" function and \"list\" function (Python Tutorial, pg. 12) <br />\n",
    "and assign it to variable called \"degree_sequence\"\n",
    "\n",
    "Print \"degree_sequence\" using \"print\" function (Python Tutorial, pg. 9).\n",
    "\n",
    "Note: \n",
    "\n",
    "Example: <br />\n",
    "[3, 3, 3, 2, 2, 1, 1, 1, 1, 1]"
   ]
  },
  {
   "cell_type": "code",
   "execution_count": null,
   "metadata": {
    "collapsed": false
   },
   "outputs": [],
   "source": []
  },
  {
   "cell_type": "markdown",
   "metadata": {},
   "source": [
    "<hr />"
   ]
  },
  {
   "cell_type": "markdown",
   "metadata": {},
   "source": [
    "### Q16\n",
    "Find the maximum vertex degree $\\Delta$ by applying<br />\n",
    "\"max\" function to the list \"degree_sequence\" <br />\n",
    "and assign it to variable \"max_degree\".\n",
    "\n",
    "Print variable \"max_degree\" using \"print\" function (Python Tutorial, pg. 9)."
   ]
  },
  {
   "cell_type": "code",
   "execution_count": null,
   "metadata": {
    "collapsed": false
   },
   "outputs": [],
   "source": []
  },
  {
   "cell_type": "markdown",
   "metadata": {},
   "source": [
    "<hr />"
   ]
  },
  {
   "cell_type": "markdown",
   "metadata": {},
   "source": [
    "### Q17\n",
    "Find the minimum vertex degree $\\delta$ by applying<br />\n",
    "\"min\" function to the list \"degree_sequence\"<br />\n",
    "and assign it to variable \"min_degree\".\n",
    "\n",
    "Print variable \"min_degree\" using \"print\" function (Python Tutorial, pg. 9)."
   ]
  },
  {
   "cell_type": "code",
   "execution_count": null,
   "metadata": {
    "collapsed": false
   },
   "outputs": [],
   "source": []
  },
  {
   "cell_type": "markdown",
   "metadata": {},
   "source": [
    "<hr />"
   ]
  },
  {
   "cell_type": "markdown",
   "metadata": {},
   "source": [
    "### Q18\n",
    "Calculate the sum of degree of all nodes<br />\n",
    "\n",
    "\"sum\" function to calculate the sum of all degree, and <br />\n",
    "assign it to a variable called \"sum_degree\".\n",
    "\n",
    "Print \"sum_degree\" using \"print\" function (Python Tutorial, pg. 9).\n",
    "\n",
    "Example:<br />\n",
    "Sum of degree of all nodes = 18<br />"
   ]
  },
  {
   "cell_type": "code",
   "execution_count": null,
   "metadata": {
    "collapsed": false
   },
   "outputs": [],
   "source": []
  },
  {
   "cell_type": "markdown",
   "metadata": {},
   "source": [
    "<hr />"
   ]
  },
  {
   "cell_type": "markdown",
   "metadata": {},
   "source": [
    "### Q19\n",
    "Calculate the value of 2 times the total number of edges using <br />\n",
    "\"number_of_edges\" function (NetworkX Tutorial pg. 3), and<br />\n",
    "assign it to a variable called \"edges_times2\".\n",
    "\n",
    "Print \"edges_times2\" using \"print\" function (Python Tutorial, pg. 9).\n",
    "\n",
    "Example:<br />\n",
    "edges_times2 = 2 x number_of_edges =  18"
   ]
  },
  {
   "cell_type": "code",
   "execution_count": null,
   "metadata": {
    "collapsed": false
   },
   "outputs": [],
   "source": []
  },
  {
   "cell_type": "markdown",
   "metadata": {},
   "source": [
    "<hr />"
   ]
  },
  {
   "cell_type": "markdown",
   "metadata": {},
   "source": [
    "### Q20\n",
    "Verify Handshaking Lemma (The degree sum formula).<br />\n",
    "$\\sum_{v \\in V} deg(v) = 2|E|$\n",
    "\n",
    "Hint: <br />\n",
    "Is sum_degree = edges_times2? <br />\n",
    "Print the value using \"print\" function (Python Tutorial, pg. 9)."
   ]
  },
  {
   "cell_type": "code",
   "execution_count": null,
   "metadata": {
    "collapsed": false
   },
   "outputs": [],
   "source": []
  },
  {
   "cell_type": "markdown",
   "metadata": {},
   "source": [
    "<hr />"
   ]
  },
  {
   "cell_type": "markdown",
   "metadata": {},
   "source": [
    "### Q21 \n",
    "Draw the graph G using \"draw\" function. Add \"with_labels=True\" argument to \"draw\" function to display the node's label."
   ]
  },
  {
   "cell_type": "code",
   "execution_count": null,
   "metadata": {
    "collapsed": false
   },
   "outputs": [],
   "source": []
  }
 ],
 "metadata": {
  "kernelspec": {
   "display_name": "Python 3",
   "language": "python",
   "name": "python3"
  },
  "language_info": {
   "codemirror_mode": {
    "name": "ipython",
    "version": 3
   },
   "file_extension": ".py",
   "mimetype": "text/x-python",
   "name": "python",
   "nbconvert_exporter": "python",
   "pygments_lexer": "ipython3",
   "version": "3.5.1"
  }
 },
 "nbformat": 4,
 "nbformat_minor": 0
}
